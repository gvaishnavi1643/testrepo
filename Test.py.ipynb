{
 "cells": [
  {
   "cell_type": "markdown",
   "id": "7f9cacfe-7d8a-4fd5-80de-ed6816b60ae7",
   "metadata": {},
   "source": [
    "Data Science Tools and Ecosystem "
   ]
  },
  {
   "cell_type": "markdown",
   "id": "1ae4cfaa-8898-4714-975e-1b5db3fcad79",
   "metadata": {},
   "source": [
    "In this notebook, Data Science Tools and Ecosystem are summarized."
   ]
  },
  {
   "cell_type": "markdown",
   "id": "ade277b2-0bb5-41e7-ac9a-5a0dfd4dec92",
   "metadata": {},
   "source": [
    "Some of the popular languages that Data Scientists use are:\n",
    "1.Python\n",
    "2.R\n",
    "3.SQL\n",
    "4."
   ]
  },
  {
   "cell_type": "markdown",
   "id": "59ef47b8-af59-4006-9031-ed33599365a1",
   "metadata": {},
   "source": [
    "Some of the commonly used libraries used by Data Scientists include:\n",
    "1.mathplotlib\n",
    "2.numpy\n",
    "3.pandas\n",
    "4.scipy"
   ]
  },
  {
   "cell_type": "markdown",
   "id": "1517f213-d520-44c1-b470-11af83063487",
   "metadata": {},
   "source": [
    "\n",
    "| **Data Science Tools**    |\n",
    "|--------------------------|\n",
    "| Apache Spark             |\n",
    "| Jupyter Notebook         |\n",
    "| Power BI                 |\n",
    "| TensorFlow               |\n",
    "\n"
   ]
  },
  {
   "cell_type": "markdown",
   "id": "36ef378d-772f-4704-b5c0-92c60ead5dff",
   "metadata": {},
   "source": [
    "### Below are a few examples of evaluating arithmetic expressions in Python.\n"
   ]
  },
  {
   "cell_type": "code",
   "execution_count": 9,
   "id": "59c2f89e-167d-4658-86c0-a6a5a31c730c",
   "metadata": {},
   "outputs": [
    {
     "data": {
      "text/plain": [
       "17"
      ]
     },
     "execution_count": 9,
     "metadata": {},
     "output_type": "execute_result"
    }
   ],
   "source": [
    "(3*4)+5"
   ]
  },
  {
   "cell_type": "code",
   "execution_count": 11,
   "id": "90eea19f-f8a1-4da5-9ebe-039c82bbac86",
   "metadata": {},
   "outputs": [
    {
     "data": {
      "text/plain": [
       "3.3333333333333335"
      ]
     },
     "execution_count": 11,
     "metadata": {},
     "output_type": "execute_result"
    }
   ],
   "source": [
    "minutes = 200\n",
    "hours = minutes / 60\n",
    "hours"
   ]
  },
  {
   "cell_type": "markdown",
   "id": "9d650822-caed-499a-a9e5-0df8e63382ea",
   "metadata": {},
   "source": [
    "**Objectives:**\n",
    "\n",
    "- List popular languages for Data Science\n",
    "- Understand basic arithmetic operations in Python\n",
    "- Evaluate arithmetic expressions\n",
    "- Convert minutes to hours\n",
    "- Explore data visualization techniques\n"
   ]
  },
  {
   "cell_type": "code",
   "execution_count": null,
   "id": "b69639ca-9dc8-48a8-b8a3-7ae5a73edea8",
   "metadata": {},
   "outputs": [],
   "source": []
  }
 ],
 "metadata": {
  "kernelspec": {
   "display_name": "Python 3 (ipykernel)",
   "language": "python",
   "name": "python3"
  },
  "language_info": {
   "codemirror_mode": {
    "name": "ipython",
    "version": 3
   },
   "file_extension": ".py",
   "mimetype": "text/x-python",
   "name": "python",
   "nbconvert_exporter": "python",
   "pygments_lexer": "ipython3",
   "version": "3.12.3"
  }
 },
 "nbformat": 4,
 "nbformat_minor": 5
}
